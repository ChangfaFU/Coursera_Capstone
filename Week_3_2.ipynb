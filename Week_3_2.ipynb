{
 "cells": [
  {
   "cell_type": "code",
   "execution_count": 1,
   "metadata": {},
   "outputs": [],
   "source": [
    "import numpy as np \n",
    "import pandas as pd"
   ]
  },
  {
   "cell_type": "code",
   "execution_count": 2,
   "metadata": {},
   "outputs": [],
   "source": [
    "L=pd.read_html('https://en.wikipedia.org/wiki/List_of_postal_codes_of_Canada:_M')\n",
    "df=L[0]\n",
    "df.to_csv('df1')\n",
    "df2=pd.read_csv('df1', names=['a','Postcode','Borough','Neighborhood'])\n",
    "df2.drop(columns=['a'],inplace=True)\n",
    "df2.drop([0,1],inplace=True)\n",
    "df2.to_csv('df3')\n",
    "df3=pd.read_csv('df3')\n",
    "df3.columns=['a','Postcode','Borough','Neighborhood']\n",
    "df3.drop(columns=['a'],inplace=True)\n",
    "df4=pd.DataFrame(df3)"
   ]
  },
  {
   "cell_type": "code",
   "execution_count": 3,
   "metadata": {},
   "outputs": [],
   "source": [
    "c=0\n",
    "for n in df4['Borough']:\n",
    "    if n == 'Not assigned':\n",
    "        df4.drop([c],inplace=True)\n",
    "    elif c==291:\n",
    "        break\n",
    "    c+=1"
   ]
  },
  {
   "cell_type": "code",
   "execution_count": 4,
   "metadata": {},
   "outputs": [],
   "source": [
    "df5=df4.sort_values('Postcode')\n",
    "df6=df5.drop_duplicates('Postcode')\n",
    "df6.to_csv('df7')\n",
    "df7=pd.read_csv('df7')\n",
    "df7.columns=['a','Postcode','Borough','Neighborhood']\n",
    "df7.drop(columns=['a'],inplace=True)"
   ]
  },
  {
   "cell_type": "code",
   "execution_count": 5,
   "metadata": {},
   "outputs": [],
   "source": [
    "L=[]\n",
    "for n in df5['Neighborhood']:\n",
    "    m=n+', ' \n",
    "    L.append(m)\n",
    "df5['Neighborhood']=L"
   ]
  },
  {
   "cell_type": "code",
   "execution_count": 6,
   "metadata": {},
   "outputs": [],
   "source": [
    "df8=df5.groupby('Postcode').sum()\n",
    "df8.to_csv('df9')\n",
    "df9=pd.read_csv('df9')\n",
    "df9.columns=['Postcode','Borough','Neighborhood']\n",
    "df9['Borough']=df7['Borough']\n",
    "L=[]\n",
    "for n in df9['Neighborhood']:\n",
    "    m=n[:-2]\n",
    "    L.append(m)\n",
    "df9['Neighborhood']=L"
   ]
  },
  {
   "cell_type": "code",
   "execution_count": 7,
   "metadata": {},
   "outputs": [
    {
     "data": {
      "text/plain": [
       "(103, 3)"
      ]
     },
     "execution_count": 7,
     "metadata": {},
     "output_type": "execute_result"
    }
   ],
   "source": [
    "df9.shape"
   ]
  },
  {
   "cell_type": "code",
   "execution_count": 8,
   "metadata": {},
   "outputs": [],
   "source": [
    "dt=pd.read_csv('http://cocl.us/Geospatial_data')"
   ]
  },
  {
   "cell_type": "code",
   "execution_count": null,
   "metadata": {},
   "outputs": [],
   "source": [
    "La=[]\n",
    "for m in df9['Postcode']:\n",
    "    c=0\n",
    "    for n in dt['Postal Code']:\n",
    "        if n==m:\n",
    "            x=dt['Latitude'][c]\n",
    "            La.append(x)\n",
    "        c+=0\n",
    "Lo=[]\n",
    "for m in df9['Postcode']:\n",
    "    c=0\n",
    "    for n in dt['Postal Code']:\n",
    "        if n==m:\n",
    "            x=dt['Longitude'][c]\n",
    "            La.append(x)\n",
    "        c+=0\n",
    "print(len(La))\n",
    "display(df9)"
   ]
  },
  {
   "cell_type": "code",
   "execution_count": null,
   "metadata": {},
   "outputs": [],
   "source": []
  }
 ],
 "metadata": {
  "kernelspec": {
   "display_name": "Python 3",
   "language": "python",
   "name": "python3"
  },
  "language_info": {
   "codemirror_mode": {
    "name": "ipython",
    "version": 3
   },
   "file_extension": ".py",
   "mimetype": "text/x-python",
   "name": "python",
   "nbconvert_exporter": "python",
   "pygments_lexer": "ipython3",
   "version": "3.6.6"
  }
 },
 "nbformat": 4,
 "nbformat_minor": 2
}
